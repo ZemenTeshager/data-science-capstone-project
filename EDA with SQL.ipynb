{
 "cells": [
  {
   "cell_type": "code",
   "execution_count": 1,
   "id": "61f89e69",
   "metadata": {},
   "outputs": [],
   "source": [
    "import mysql.connector\n"
   ]
  },
  {
   "cell_type": "code",
   "execution_count": 2,
   "id": "6b874b76",
   "metadata": {},
   "outputs": [],
   "source": [
    "# create connection object\n",
    "con = mysql.connector.connect(\n",
    "host=\"localhost\", user=\"root\",\n",
    "password=\"\", database=\"data_science\")"
   ]
  },
  {
   "cell_type": "code",
   "execution_count": 3,
   "id": "592d51db",
   "metadata": {},
   "outputs": [],
   "source": [
    "# create cursor object\n",
    "cursor = con.cursor()"
   ]
  },
  {
   "cell_type": "code",
   "execution_count": 5,
   "id": "60f1d7be",
   "metadata": {},
   "outputs": [
    {
     "data": {
      "text/plain": [
       "[('CCAFS LC-40',), ('VAFB SLC-4E',), ('KSC LC-39A',), ('CCAFS SLC-40',)]"
      ]
     },
     "execution_count": 5,
     "metadata": {},
     "output_type": "execute_result"
    }
   ],
   "source": [
    "sql1='select DISTINCT LAUNCH_SITE FROM spacex'\n",
    "\n",
    "# executing cursor\n",
    "cursor.execute(sql1)\n",
    "\n",
    "# display all records\n",
    "cursor.fetchall()"
   ]
  },
  {
   "cell_type": "markdown",
   "id": "cd466681",
   "metadata": {},
   "source": [
    "task 2"
   ]
  },
  {
   "cell_type": "code",
   "execution_count": 8,
   "id": "6e68b1b7",
   "metadata": {},
   "outputs": [
    {
     "data": {
      "text/plain": [
       "[('04-06-2010',\n",
       "  '18:45:00',\n",
       "  'F9 v1.0  B0003',\n",
       "  'CCAFS LC-40',\n",
       "  'Dragon Spacecraft Qualification Unit',\n",
       "  '0',\n",
       "  'LEO',\n",
       "  'SpaceX',\n",
       "  'Success',\n",
       "  'Failure (parachute)'),\n",
       " ('08-12-2010',\n",
       "  '15:43:00',\n",
       "  'F9 v1.0  B0004',\n",
       "  'CCAFS LC-40',\n",
       "  'Dragon demo flight C1, two CubeSats, barrel of Brouere cheese',\n",
       "  '0',\n",
       "  'LEO (ISS)',\n",
       "  'NASA (COTS) NRO',\n",
       "  'Success',\n",
       "  'Failure (parachute)'),\n",
       " ('22-05-2012',\n",
       "  '07:44:00',\n",
       "  'F9 v1.0  B0005',\n",
       "  'CCAFS LC-40',\n",
       "  'Dragon demo flight C2',\n",
       "  '525',\n",
       "  'LEO (ISS)',\n",
       "  'NASA (COTS)',\n",
       "  'Success',\n",
       "  'No attempt'),\n",
       " ('08-10-2012',\n",
       "  '00:35:00',\n",
       "  'F9 v1.0  B0006',\n",
       "  'CCAFS LC-40',\n",
       "  'SpaceX CRS-1',\n",
       "  '500',\n",
       "  'LEO (ISS)',\n",
       "  'NASA (CRS)',\n",
       "  'Success',\n",
       "  'No attempt'),\n",
       " ('01-03-2013',\n",
       "  '15:10:00',\n",
       "  'F9 v1.0  B0007',\n",
       "  'CCAFS LC-40',\n",
       "  'SpaceX CRS-2',\n",
       "  '677',\n",
       "  'LEO (ISS)',\n",
       "  'NASA (CRS)',\n",
       "  'Success',\n",
       "  'No attempt')]"
      ]
     },
     "execution_count": 8,
     "metadata": {},
     "output_type": "execute_result"
    }
   ],
   "source": [
    "# %%sql\n",
    "# SELECT * FROM SPACEXTBL\n",
    "# WHERE LAUNCH_SITE LIKE 'CCA%'\n",
    "# LIMIT 5\n",
    "\n",
    "sql2='select * from spacex where LAUNCH_SITE LIKE \\'CCA%\\' LIMIT 5'\n",
    "\n",
    "# executing cursor\n",
    "cursor.execute(sql2)\n",
    "\n",
    "# display all records\n",
    "cursor.fetchall()"
   ]
  },
  {
   "cell_type": "markdown",
   "id": "ac0f1ed1",
   "metadata": {},
   "source": [
    "task 3"
   ]
  },
  {
   "cell_type": "code",
   "execution_count": 9,
   "id": "57dd8f7b",
   "metadata": {},
   "outputs": [
    {
     "data": {
      "text/plain": [
       "[(45596.0,)]"
      ]
     },
     "execution_count": 9,
     "metadata": {},
     "output_type": "execute_result"
    }
   ],
   "source": [
    "# %%sql\n",
    "# SELECT SUM(PAYLOAD_MASS__KG_) AS total_payload_mass_kg\n",
    "# FROM SPACEXTBL\n",
    "# WHERE CUSTOMER = 'NASA (CRS)'\n",
    "\n",
    "sql3=\"SELECT SUM(PAYLOAD_MASS__KG_) AS total_payload_mass_kg FROM spacex WHERE CUSTOMER = 'NASA (CRS)'\"\n",
    "# executing cursor\n",
    "cursor.execute(sql3)\n",
    "\n",
    "# display all records\n",
    "cursor.fetchall()"
   ]
  },
  {
   "cell_type": "markdown",
   "id": "c9b33749",
   "metadata": {},
   "source": [
    "task 4"
   ]
  },
  {
   "cell_type": "code",
   "execution_count": 11,
   "id": "2e9c3315",
   "metadata": {},
   "outputs": [
    {
     "data": {
      "text/plain": [
       "[(2928.4,)]"
      ]
     },
     "execution_count": 11,
     "metadata": {},
     "output_type": "execute_result"
    }
   ],
   "source": [
    "# %%sql\n",
    "# SELECT AVG(PAYLOAD_MASS__KG_) AS avg_payload_mass_kg\n",
    "# FROM SPACEXTBL\n",
    "# WHERE BOOSTER_VERSION = 'F9 v1.1'\n",
    "\n",
    "sql4=\"SELECT AVG(PAYLOAD_MASS__KG_) AS avg_payload_mass_kg FROM spacex WHERE BOOSTER_VERSION = 'F9 v1.1' \"\n",
    "# executing cursor\n",
    "cursor.execute(sql4)\n",
    "\n",
    "# display all records\n",
    "cursor.fetchall()"
   ]
  },
  {
   "cell_type": "markdown",
   "id": "005f71e4",
   "metadata": {},
   "source": [
    "task 5"
   ]
  },
  {
   "cell_type": "code",
   "execution_count": 21,
   "id": "4363a0b7",
   "metadata": {},
   "outputs": [
    {
     "ename": "ProgrammingError",
     "evalue": "1064 (42000): You have an error in your SQL syntax; check the manual that corresponds to your MariaDB server version for the right syntax to use near '_Outcome = `Success (ground pad)`' at line 1",
     "output_type": "error",
     "traceback": [
      "\u001b[1;31m---------------------------------------------------------------------------\u001b[0m",
      "\u001b[1;31mProgrammingError\u001b[0m                          Traceback (most recent call last)",
      "Input \u001b[1;32mIn [21]\u001b[0m, in \u001b[0;36m<cell line: 10>\u001b[1;34m()\u001b[0m\n\u001b[0;32m      7\u001b[0m sql5\u001b[38;5;241m=\u001b[39m\u001b[38;5;124m\"\u001b[39m\u001b[38;5;124mSELECT MIN(DATE) AS first_successful_landing_date FROM spacex WHERE Landing _Outcome = `Success (ground pad)` \u001b[39m\u001b[38;5;124m\"\u001b[39m\n\u001b[0;32m      9\u001b[0m \u001b[38;5;66;03m# executing cursor\u001b[39;00m\n\u001b[1;32m---> 10\u001b[0m \u001b[43mcursor\u001b[49m\u001b[38;5;241;43m.\u001b[39;49m\u001b[43mexecute\u001b[49m\u001b[43m(\u001b[49m\u001b[43msql5\u001b[49m\u001b[43m)\u001b[49m\n\u001b[0;32m     12\u001b[0m \u001b[38;5;66;03m# display all records\u001b[39;00m\n\u001b[0;32m     13\u001b[0m cursor\u001b[38;5;241m.\u001b[39mfetchall()\n",
      "File \u001b[1;32m~\\AppData\\Local\\Programs\\Python\\Python310\\lib\\site-packages\\mysql\\connector\\cursor.py:551\u001b[0m, in \u001b[0;36mMySQLCursor.execute\u001b[1;34m(self, operation, params, multi)\u001b[0m\n\u001b[0;32m    549\u001b[0m \u001b[38;5;28;01melse\u001b[39;00m:\n\u001b[0;32m    550\u001b[0m     \u001b[38;5;28;01mtry\u001b[39;00m:\n\u001b[1;32m--> 551\u001b[0m         \u001b[38;5;28mself\u001b[39m\u001b[38;5;241m.\u001b[39m_handle_result(\u001b[38;5;28;43mself\u001b[39;49m\u001b[38;5;241;43m.\u001b[39;49m\u001b[43m_connection\u001b[49m\u001b[38;5;241;43m.\u001b[39;49m\u001b[43mcmd_query\u001b[49m\u001b[43m(\u001b[49m\u001b[43mstmt\u001b[49m\u001b[43m)\u001b[49m)\n\u001b[0;32m    552\u001b[0m     \u001b[38;5;28;01mexcept\u001b[39;00m errors\u001b[38;5;241m.\u001b[39mInterfaceError:\n\u001b[0;32m    553\u001b[0m         \u001b[38;5;28;01mif\u001b[39;00m \u001b[38;5;28mself\u001b[39m\u001b[38;5;241m.\u001b[39m_connection\u001b[38;5;241m.\u001b[39m_have_next_result:  \u001b[38;5;66;03m# pylint: disable=W0212\u001b[39;00m\n",
      "File \u001b[1;32m~\\AppData\\Local\\Programs\\Python\\Python310\\lib\\site-packages\\mysql\\connector\\connection.py:490\u001b[0m, in \u001b[0;36mMySQLConnection.cmd_query\u001b[1;34m(self, query, raw, buffered, raw_as_string)\u001b[0m\n\u001b[0;32m    488\u001b[0m \u001b[38;5;28;01mif\u001b[39;00m \u001b[38;5;129;01mnot\u001b[39;00m \u001b[38;5;28misinstance\u001b[39m(query, \u001b[38;5;28mbytes\u001b[39m):\n\u001b[0;32m    489\u001b[0m     query \u001b[38;5;241m=\u001b[39m query\u001b[38;5;241m.\u001b[39mencode(\u001b[38;5;124m'\u001b[39m\u001b[38;5;124mutf-8\u001b[39m\u001b[38;5;124m'\u001b[39m)\n\u001b[1;32m--> 490\u001b[0m result \u001b[38;5;241m=\u001b[39m \u001b[38;5;28;43mself\u001b[39;49m\u001b[38;5;241;43m.\u001b[39;49m\u001b[43m_handle_result\u001b[49m\u001b[43m(\u001b[49m\u001b[38;5;28;43mself\u001b[39;49m\u001b[38;5;241;43m.\u001b[39;49m\u001b[43m_send_cmd\u001b[49m\u001b[43m(\u001b[49m\u001b[43mServerCmd\u001b[49m\u001b[38;5;241;43m.\u001b[39;49m\u001b[43mQUERY\u001b[49m\u001b[43m,\u001b[49m\u001b[43m \u001b[49m\u001b[43mquery\u001b[49m\u001b[43m)\u001b[49m\u001b[43m)\u001b[49m\n\u001b[0;32m    492\u001b[0m \u001b[38;5;28;01mif\u001b[39;00m \u001b[38;5;28mself\u001b[39m\u001b[38;5;241m.\u001b[39m_have_next_result:\n\u001b[0;32m    493\u001b[0m     \u001b[38;5;28;01mraise\u001b[39;00m errors\u001b[38;5;241m.\u001b[39mInterfaceError(\n\u001b[0;32m    494\u001b[0m         \u001b[38;5;124m'\u001b[39m\u001b[38;5;124mUse cmd_query_iter for statements with multiple queries.\u001b[39m\u001b[38;5;124m'\u001b[39m)\n",
      "File \u001b[1;32m~\\AppData\\Local\\Programs\\Python\\Python310\\lib\\site-packages\\mysql\\connector\\connection.py:395\u001b[0m, in \u001b[0;36mMySQLConnection._handle_result\u001b[1;34m(self, packet)\u001b[0m\n\u001b[0;32m    393\u001b[0m     \u001b[38;5;28;01mreturn\u001b[39;00m \u001b[38;5;28mself\u001b[39m\u001b[38;5;241m.\u001b[39m_handle_eof(packet)\n\u001b[0;32m    394\u001b[0m \u001b[38;5;28;01melif\u001b[39;00m packet[\u001b[38;5;241m4\u001b[39m] \u001b[38;5;241m==\u001b[39m \u001b[38;5;241m255\u001b[39m:\n\u001b[1;32m--> 395\u001b[0m     \u001b[38;5;28;01mraise\u001b[39;00m errors\u001b[38;5;241m.\u001b[39mget_exception(packet)\n\u001b[0;32m    397\u001b[0m \u001b[38;5;66;03m# We have a text result set\u001b[39;00m\n\u001b[0;32m    398\u001b[0m column_count \u001b[38;5;241m=\u001b[39m \u001b[38;5;28mself\u001b[39m\u001b[38;5;241m.\u001b[39m_protocol\u001b[38;5;241m.\u001b[39mparse_column_count(packet)\n",
      "\u001b[1;31mProgrammingError\u001b[0m: 1064 (42000): You have an error in your SQL syntax; check the manual that corresponds to your MariaDB server version for the right syntax to use near '_Outcome = `Success (ground pad)`' at line 1"
     ]
    }
   ],
   "source": [
    "# %%sql\n",
    "# SELECT MIN(DATE) AS first_successful_landing_date\n",
    "# FROM SPACEXTBL\n",
    "# WHERE LANDING__OUTCOME = 'Success (ground pad)'\n",
    "# 2015-12-22\n",
    "check=\"Success (ground pad)\"\n",
    "\n",
    "sql5=\"SELECT MIN(DATE) AS first_successful_landing_date FROM spacex WHERE Landing _Outcome = `Success (ground pad)` \"\n",
    "\n",
    "# executing cursor\n",
    "cursor.execute(sql5)\n",
    "\n",
    "# display all records\n",
    "cursor.fetchall()"
   ]
  },
  {
   "cell_type": "markdown",
   "id": "7d470d0f",
   "metadata": {},
   "source": [
    "task 6"
   ]
  },
  {
   "cell_type": "code",
   "execution_count": null,
   "id": "9bc90d79",
   "metadata": {},
   "outputs": [],
   "source": [
    "# %%sql\n",
    "# SELECT BOOSTER_VERSION\n",
    "# FROM SPACEXTBL\n",
    "# WHERE LANDING__OUTCOME = 'Success (drone ship)'\n",
    "#     AND (PAYLOAD_MASS__KG_ BETWEEN 4000 AND 6000)\n",
    "\n",
    "# F9 FT B1022\n",
    "# F9 FT B1026\n",
    "# F9 FT B1021.2\n",
    "# F9 FT B1031.2\n",
    "    \n",
    "    \n",
    "sql6=\"SELECT BOOSTER_VERSION FROM spacex WHERE LANDING__OUTCOME = 'Success (drone ship)' AND (PAYLOAD_MASS__KG_ BETWEEN 4000 AND 6000)\"\n",
    "#executing cursor\n",
    "cursor.execute(sql6)\n",
    "\n",
    "# display all records\n",
    "cursor.fetchall()"
   ]
  },
  {
   "cell_type": "markdown",
   "id": "34cd1c22",
   "metadata": {},
   "source": [
    "task 7"
   ]
  },
  {
   "cell_type": "code",
   "execution_count": 25,
   "id": "bdeb3326",
   "metadata": {},
   "outputs": [
    {
     "data": {
      "text/plain": [
       "[('Failure (in flight)', 1),\n",
       " ('Success', 99),\n",
       " ('Success (payload status unclear)', 1)]"
      ]
     },
     "execution_count": 25,
     "metadata": {},
     "output_type": "execute_result"
    }
   ],
   "source": [
    "# %%sql\n",
    "# SELECT MISSION_OUTCOME, COUNT(*) AS total_number\n",
    "# FROM SPACEXTBL\n",
    "# GROUP BY MISSION_OUTCOME\n",
    "\n",
    "sql7=\"SELECT MISSION_OUTCOME, COUNT(*) AS total_number FROM spacex GROUP BY MISSION_OUTCOME \"\n",
    "\n",
    "#executing cursor\n",
    "cursor.execute(sql7)\n",
    "\n",
    "# display all records\n",
    "cursor.fetchall()"
   ]
  },
  {
   "cell_type": "markdown",
   "id": "9db28256",
   "metadata": {},
   "source": [
    "task 8"
   ]
  },
  {
   "cell_type": "code",
   "execution_count": 27,
   "id": "ff7821f3",
   "metadata": {},
   "outputs": [
    {
     "data": {
      "text/plain": [
       "[('F9 FT B1029.1', '9600'),\n",
       " ('F9 FT B1036.1', '9600'),\n",
       " ('F9 B4 B1041.1', '9600'),\n",
       " ('F9 FT  B1036.2', '9600'),\n",
       " ('F9 B4  B1041.2', '9600'),\n",
       " ('F9 B5B1048.1', '9600'),\n",
       " ('F9 B5 B1049.2', '9600')]"
      ]
     },
     "execution_count": 27,
     "metadata": {},
     "output_type": "execute_result"
    }
   ],
   "source": [
    "# %%sql\n",
    "# SELECT DISTINCT BOOSTER_VERSION, PAYLOAD_MASS__KG_\n",
    "# FROM SPACEXTBL\n",
    "# WHERE PAYLOAD_MASS__KG_ = (\n",
    "#     SELECT MAX(PAYLOAD_MASS__KG_)\n",
    "#     FROM SPACEXTBL);\n",
    "\n",
    "sql8=\"SELECT DISTINCT BOOSTER_VERSION, PAYLOAD_MASS__KG_ FROM spacex WHERE PAYLOAD_MASS__KG_ = (SELECT MAX(PAYLOAD_MASS__KG_) FROM spacex)\"\n",
    "\n",
    "#executing cursor\n",
    "cursor.execute(sql8)\n",
    "\n",
    "# display all records\n",
    "cursor.fetchall()"
   ]
  },
  {
   "cell_type": "markdown",
   "id": "a0f8f3d3",
   "metadata": {},
   "source": [
    "task 9"
   ]
  },
  {
   "cell_type": "code",
   "execution_count": 28,
   "id": "4c7d94c3",
   "metadata": {},
   "outputs": [],
   "source": [
    "# %%sql\n",
    "# SELECT LANDING__OUTCOME, BOOSTER_VERSION, LAUNCH_SITE\n",
    "# FROM SPACEXTBL\n",
    "# WHERE LANDING__OUTCOME = 'Failure (drone ship)' AND YEAR(DATE) = '2015'\n",
    "\n",
    "# \n",
    "# landing__outcome\tbooster_version\tlaunch_site\n",
    "# Failure (drone ship)\tF9 v1.1 B1012\tCCAFS LC-40\n",
    "# Failure (drone ship)\tF9 v1.1 B1015\tCCAFS LC-40"
   ]
  },
  {
   "cell_type": "markdown",
   "id": "035a3f9d",
   "metadata": {},
   "source": [
    "task 10"
   ]
  },
  {
   "cell_type": "code",
   "execution_count": 36,
   "id": "76c24836",
   "metadata": {},
   "outputs": [
    {
     "ename": "ProgrammingError",
     "evalue": "1064 (42000): You have an error in your SQL syntax; check the manual that corresponds to your MariaDB server version for the right syntax to use near '(COUNT(Landing _Outcome) AS total_number FROM spacex WHERE DATE BETWEEN '2010...' at line 1",
     "output_type": "error",
     "traceback": [
      "\u001b[1;31m---------------------------------------------------------------------------\u001b[0m",
      "\u001b[1;31mProgrammingError\u001b[0m                          Traceback (most recent call last)",
      "Input \u001b[1;32mIn [36]\u001b[0m, in \u001b[0;36m<cell line: 11>\u001b[1;34m()\u001b[0m\n\u001b[0;32m      8\u001b[0m sql10\u001b[38;5;241m=\u001b[39m\u001b[38;5;124m\"\u001b[39m\u001b[38;5;124mSELECT Landing _Outcome(COUNT(Landing _Outcome) AS total_number FROM spacex WHERE DATE BETWEEN \u001b[39m\u001b[38;5;124m'\u001b[39m\u001b[38;5;124m2010-06-04\u001b[39m\u001b[38;5;124m'\u001b[39m\u001b[38;5;124m AND \u001b[39m\u001b[38;5;124m'\u001b[39m\u001b[38;5;124m2017-03-20\u001b[39m\u001b[38;5;124m'\u001b[39m\u001b[38;5;124m GROUP BY Landing _Outcome ORDER BY total_number DESC ) \u001b[39m\u001b[38;5;124m\"\u001b[39m\n\u001b[0;32m     10\u001b[0m \u001b[38;5;66;03m#executing cursor\u001b[39;00m\n\u001b[1;32m---> 11\u001b[0m \u001b[43mcursor\u001b[49m\u001b[38;5;241;43m.\u001b[39;49m\u001b[43mexecute\u001b[49m\u001b[43m(\u001b[49m\u001b[43msql10\u001b[49m\u001b[43m)\u001b[49m\n\u001b[0;32m     13\u001b[0m \u001b[38;5;66;03m# display all records\u001b[39;00m\n\u001b[0;32m     14\u001b[0m cursor\u001b[38;5;241m.\u001b[39mfetchall()\n",
      "File \u001b[1;32m~\\AppData\\Local\\Programs\\Python\\Python310\\lib\\site-packages\\mysql\\connector\\cursor.py:551\u001b[0m, in \u001b[0;36mMySQLCursor.execute\u001b[1;34m(self, operation, params, multi)\u001b[0m\n\u001b[0;32m    549\u001b[0m \u001b[38;5;28;01melse\u001b[39;00m:\n\u001b[0;32m    550\u001b[0m     \u001b[38;5;28;01mtry\u001b[39;00m:\n\u001b[1;32m--> 551\u001b[0m         \u001b[38;5;28mself\u001b[39m\u001b[38;5;241m.\u001b[39m_handle_result(\u001b[38;5;28;43mself\u001b[39;49m\u001b[38;5;241;43m.\u001b[39;49m\u001b[43m_connection\u001b[49m\u001b[38;5;241;43m.\u001b[39;49m\u001b[43mcmd_query\u001b[49m\u001b[43m(\u001b[49m\u001b[43mstmt\u001b[49m\u001b[43m)\u001b[49m)\n\u001b[0;32m    552\u001b[0m     \u001b[38;5;28;01mexcept\u001b[39;00m errors\u001b[38;5;241m.\u001b[39mInterfaceError:\n\u001b[0;32m    553\u001b[0m         \u001b[38;5;28;01mif\u001b[39;00m \u001b[38;5;28mself\u001b[39m\u001b[38;5;241m.\u001b[39m_connection\u001b[38;5;241m.\u001b[39m_have_next_result:  \u001b[38;5;66;03m# pylint: disable=W0212\u001b[39;00m\n",
      "File \u001b[1;32m~\\AppData\\Local\\Programs\\Python\\Python310\\lib\\site-packages\\mysql\\connector\\connection.py:490\u001b[0m, in \u001b[0;36mMySQLConnection.cmd_query\u001b[1;34m(self, query, raw, buffered, raw_as_string)\u001b[0m\n\u001b[0;32m    488\u001b[0m \u001b[38;5;28;01mif\u001b[39;00m \u001b[38;5;129;01mnot\u001b[39;00m \u001b[38;5;28misinstance\u001b[39m(query, \u001b[38;5;28mbytes\u001b[39m):\n\u001b[0;32m    489\u001b[0m     query \u001b[38;5;241m=\u001b[39m query\u001b[38;5;241m.\u001b[39mencode(\u001b[38;5;124m'\u001b[39m\u001b[38;5;124mutf-8\u001b[39m\u001b[38;5;124m'\u001b[39m)\n\u001b[1;32m--> 490\u001b[0m result \u001b[38;5;241m=\u001b[39m \u001b[38;5;28;43mself\u001b[39;49m\u001b[38;5;241;43m.\u001b[39;49m\u001b[43m_handle_result\u001b[49m\u001b[43m(\u001b[49m\u001b[38;5;28;43mself\u001b[39;49m\u001b[38;5;241;43m.\u001b[39;49m\u001b[43m_send_cmd\u001b[49m\u001b[43m(\u001b[49m\u001b[43mServerCmd\u001b[49m\u001b[38;5;241;43m.\u001b[39;49m\u001b[43mQUERY\u001b[49m\u001b[43m,\u001b[49m\u001b[43m \u001b[49m\u001b[43mquery\u001b[49m\u001b[43m)\u001b[49m\u001b[43m)\u001b[49m\n\u001b[0;32m    492\u001b[0m \u001b[38;5;28;01mif\u001b[39;00m \u001b[38;5;28mself\u001b[39m\u001b[38;5;241m.\u001b[39m_have_next_result:\n\u001b[0;32m    493\u001b[0m     \u001b[38;5;28;01mraise\u001b[39;00m errors\u001b[38;5;241m.\u001b[39mInterfaceError(\n\u001b[0;32m    494\u001b[0m         \u001b[38;5;124m'\u001b[39m\u001b[38;5;124mUse cmd_query_iter for statements with multiple queries.\u001b[39m\u001b[38;5;124m'\u001b[39m)\n",
      "File \u001b[1;32m~\\AppData\\Local\\Programs\\Python\\Python310\\lib\\site-packages\\mysql\\connector\\connection.py:395\u001b[0m, in \u001b[0;36mMySQLConnection._handle_result\u001b[1;34m(self, packet)\u001b[0m\n\u001b[0;32m    393\u001b[0m     \u001b[38;5;28;01mreturn\u001b[39;00m \u001b[38;5;28mself\u001b[39m\u001b[38;5;241m.\u001b[39m_handle_eof(packet)\n\u001b[0;32m    394\u001b[0m \u001b[38;5;28;01melif\u001b[39;00m packet[\u001b[38;5;241m4\u001b[39m] \u001b[38;5;241m==\u001b[39m \u001b[38;5;241m255\u001b[39m:\n\u001b[1;32m--> 395\u001b[0m     \u001b[38;5;28;01mraise\u001b[39;00m errors\u001b[38;5;241m.\u001b[39mget_exception(packet)\n\u001b[0;32m    397\u001b[0m \u001b[38;5;66;03m# We have a text result set\u001b[39;00m\n\u001b[0;32m    398\u001b[0m column_count \u001b[38;5;241m=\u001b[39m \u001b[38;5;28mself\u001b[39m\u001b[38;5;241m.\u001b[39m_protocol\u001b[38;5;241m.\u001b[39mparse_column_count(packet)\n",
      "\u001b[1;31mProgrammingError\u001b[0m: 1064 (42000): You have an error in your SQL syntax; check the manual that corresponds to your MariaDB server version for the right syntax to use near '(COUNT(Landing _Outcome) AS total_number FROM spacex WHERE DATE BETWEEN '2010...' at line 1"
     ]
    }
   ],
   "source": [
    "# %%sql\n",
    "# SELECT LANDING__OUTCOME, COUNT(LANDING__OUTCOME) AS total_number\n",
    "# FROM SPACEXTBL\n",
    "# WHERE DATE BETWEEN '2010-06-04' AND '2017-03-20'\n",
    "# GROUP BY LANDING__OUTCOME\n",
    "# ORDER BY total_number DESC\n",
    "\n",
    "sql10=\"SELECT Landing _Outcome COUNT(Landing _Outcome) AS total_number FROM spacex WHERE DATE BETWEEN '2010-06-04' AND '2017-03-20' GROUP BY Landing _Outcome ORDER BY total_number DESC \"\n",
    "\n",
    "#executing cursor\n",
    "cursor.execute(sql10)\n",
    "\n",
    "# display all records\n",
    "cursor.fetchall()\n",
    "\n",
    "\n",
    "# ans \n",
    "\n",
    "\"\"\"landing__outcome\ttotal_number\n",
    "No attempt\t10\n",
    "Failure (drone ship)\t5\n",
    "Success (drone ship)\t5\n",
    "Controlled (ocean)\t3\n",
    "Success (ground pad)\t3\n",
    "Failure (parachute)\t2\n",
    "Uncontrolled (ocean)\t2\n",
    "Precluded (drone ship)\t1\"\"\"\n"
   ]
  },
  {
   "cell_type": "code",
   "execution_count": null,
   "id": "0c83de47",
   "metadata": {},
   "outputs": [],
   "source": []
  }
 ],
 "metadata": {
  "kernelspec": {
   "display_name": "Python 3 (ipykernel)",
   "language": "python",
   "name": "python3"
  },
  "language_info": {
   "codemirror_mode": {
    "name": "ipython",
    "version": 3
   },
   "file_extension": ".py",
   "mimetype": "text/x-python",
   "name": "python",
   "nbconvert_exporter": "python",
   "pygments_lexer": "ipython3",
   "version": "3.10.4"
  }
 },
 "nbformat": 4,
 "nbformat_minor": 5
}
